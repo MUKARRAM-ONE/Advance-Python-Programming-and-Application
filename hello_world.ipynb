{
 "cells": [
  {
   "cell_type": "code",
   "id": "initial_id",
   "metadata": {
    "collapsed": true,
    "ExecuteTime": {
     "end_time": "2025-03-29T19:57:44.728508Z",
     "start_time": "2025-03-29T19:57:44.711650Z"
    }
   },
   "source": [
    "\"\"\"\n",
    "print is used in python to give the output\n",
    "that is written inside the quotation marks\n",
    "like this --> print(\"any code here\")\n",
    "\"\"\"\n",
    "\n",
    "print(\"hello world\")\n"
   ],
   "outputs": [
    {
     "name": "stdout",
     "output_type": "stream",
     "text": [
      "hello world\n"
     ]
    }
   ],
   "execution_count": 2
  },
  {
   "metadata": {
    "ExecuteTime": {
     "end_time": "2025-03-29T19:59:07.641372Z",
     "start_time": "2025-03-29T19:59:07.631269Z"
    }
   },
   "cell_type": "code",
   "source": [
    "\"\"\"\n",
    "in python we write it in three ways like\n",
    "1: 'code' single quote\n",
    "2: \"code here\" double quote\n",
    "3: '''code here ''' triple quote\n",
    "\"\"\"\n",
    "\n",
    "\n",
    "# first way to print our statement\n",
    "print('hello world') # single quote\n",
    "\n",
    "# most common used in programming by developers this way of printing\n",
    "# second way to print our statement\n",
    "print(\"hello world\") # double quote\n",
    "\n",
    "# third way to print our statement\n",
    "print(\"\"\"hello world\"\"\") # triple quote"
   ],
   "id": "94933f264378216c",
   "outputs": [
    {
     "name": "stdout",
     "output_type": "stream",
     "text": [
      "hello world\n",
      "hello world\n",
      "hello world\n"
     ]
    }
   ],
   "execution_count": 3
  },
  {
   "metadata": {
    "ExecuteTime": {
     "end_time": "2025-03-29T20:02:56.807426Z",
     "start_time": "2025-03-29T20:02:56.790368Z"
    }
   },
   "cell_type": "code",
   "source": [
    "# profile using print\n",
    "\n",
    "print(\"Name : Mukarram\")\n",
    "print(\"Occupation : Student\")\n",
    "print(\"Age : 21\")\n",
    "print(\"Qualification : Bachelors of Science in Software Engineering/[BSSE]\")\n"
   ],
   "id": "1cb5ce5f3b3175e1",
   "outputs": [
    {
     "name": "stdout",
     "output_type": "stream",
     "text": [
      "Name : Mukarram\n",
      "Occupation : Student\n",
      "Age : 21\n",
      "Qualification : Bachelors of Science in Software Engineering/[BSSE]\n"
     ]
    }
   ],
   "execution_count": 4
  },
  {
   "metadata": {
    "ExecuteTime": {
     "end_time": "2025-03-29T20:09:41.216335Z",
     "start_time": "2025-03-29T20:09:23.911894Z"
    }
   },
   "cell_type": "code",
   "source": [
    "# after introducing your self to python programming\n",
    "# input or for data from user or from your own\n",
    "# use 'input' this will take the input from user and save it\n",
    "\n",
    "# syntax\n",
    "syntax = input(\"Please write some thing here : \") # here data taken from user\n",
    "print(syntax) # print same data that taken from user\n"
   ],
   "id": "a4e7ae062a50a101",
   "outputs": [
    {
     "name": "stdout",
     "output_type": "stream",
     "text": [
      "Laila tul qadar\n"
     ]
    }
   ],
   "execution_count": 5
  },
  {
   "metadata": {
    "ExecuteTime": {
     "end_time": "2025-03-29T20:16:57.189008Z",
     "start_time": "2025-03-29T20:15:21.899868Z"
    }
   },
   "cell_type": "code",
   "source": [
    "# Let's do some practice\n",
    "\n",
    "#questioning form for users\n",
    "name = input(\"Enter your name: \")\n",
    "age = input(\"Enter your age: \")\n",
    "id = input(\"Enter your id: \")\n",
    "email = input(\"Enter your email: \")\n",
    "contact = input(\"Enter your contact: \")\n",
    "profession = input(\"Enter your profession: \")\n",
    "\n",
    "\n",
    "# check the data given\n",
    "print(name)\n",
    "print(age)\n",
    "print(id)\n",
    "print(email)\n",
    "print(contact)\n",
    "print(profession)\n"
   ],
   "id": "d67fc081d6bb5301",
   "outputs": [
    {
     "name": "stdout",
     "output_type": "stream",
     "text": [
      "mukarram\n",
      "21\n",
      "123xyz\n",
      "xyz@gmail.com\n",
      "XXXX-XXXXXXX\n",
      "Student\n"
     ]
    }
   ],
   "execution_count": 6
  }
 ],
 "metadata": {
  "kernelspec": {
   "display_name": "Python 3",
   "language": "python",
   "name": "python3"
  },
  "language_info": {
   "codemirror_mode": {
    "name": "ipython",
    "version": 2
   },
   "file_extension": ".py",
   "mimetype": "text/x-python",
   "name": "python",
   "nbconvert_exporter": "python",
   "pygments_lexer": "ipython2",
   "version": "2.7.6"
  }
 },
 "nbformat": 4,
 "nbformat_minor": 5
}
