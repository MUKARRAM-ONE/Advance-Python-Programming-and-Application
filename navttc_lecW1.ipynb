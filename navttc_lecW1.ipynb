{
 "cells": [
  {
   "cell_type": "code",
   "id": "initial_id",
   "metadata": {
    "collapsed": true,
    "ExecuteTime": {
     "end_time": "2025-03-13T10:17:43.071237Z",
     "start_time": "2025-03-13T10:17:43.053789Z"
    }
   },
   "source": [
    "# Example of using the ternary operator\n",
    "a = 10\n",
    "b = 20\n",
    "\n",
    "# Using ternary operator to find the maximum value\n",
    "max_value = a if a > b else b\n",
    "\n",
    "print(max_value)  # Output: 20"
   ],
   "outputs": [
    {
     "name": "stdout",
     "output_type": "stream",
     "text": [
      "20\n"
     ]
    }
   ],
   "execution_count": 1
  },
  {
   "metadata": {
    "ExecuteTime": {
     "end_time": "2025-03-12T11:03:52.882201Z",
     "start_time": "2025-03-12T11:03:52.868697Z"
    }
   },
   "cell_type": "code",
   "source": [
    "a = \"mukarram\"\n",
    "b = \"mukarram\"\n",
    "\n",
    "# Using ternary operator to check if a and b are equal\n",
    "result = \"Equal\" if a == b else \"Not Equal\"\n",
    "print(result)  # Output: Equal\n"
   ],
   "id": "92f60ee3b574b197",
   "outputs": [
    {
     "name": "stdout",
     "output_type": "stream",
     "text": [
      "Equal\n"
     ]
    }
   ],
   "execution_count": 2
  },
  {
   "metadata": {
    "ExecuteTime": {
     "end_time": "2025-03-12T11:30:36.420953Z",
     "start_time": "2025-03-12T11:30:36.397463Z"
    }
   },
   "cell_type": "code",
   "source": [
    "a , b , c = 10 , 20 , 30\n",
    "\n",
    "print(a , b , c)  # Output: (10, 20, 30)\n",
    "\n",
    "a = b = c = 40\n",
    "\n",
    "print(a , b , c)"
   ],
   "id": "9cfd3b1e6feb18aa",
   "outputs": [
    {
     "name": "stdout",
     "output_type": "stream",
     "text": [
      "10 20 30\n",
      "40 40 40\n"
     ]
    }
   ],
   "execution_count": 4
  },
  {
   "metadata": {
    "ExecuteTime": {
     "end_time": "2025-03-12T11:42:31.914165Z",
     "start_time": "2025-03-12T11:42:08.596531Z"
    }
   },
   "cell_type": "code",
   "source": [
    "print(\"this is a bio graphy of a user\")\n",
    "user_name = input(\"Enter your name: \")\n",
    "user_qualification = input(\"Enter your qualification: \")\n",
    "user_experience = input(\"Enter your experience: \")\n",
    "user_age = int(input(\"Enter your age: \"))\n",
    "user_city = input(\"Enter your city: \")\n",
    "user_country = input(\"Enter your country: \")\n",
    "print(\"User Name:\", user_name)\n",
    "print(\"User Age:\", user_age)\n",
    "print(\"User City:\", user_city)\n",
    "print(\"User Country:\", user_country)\n"
   ],
   "id": "362f658d48fa2fb6",
   "outputs": [
    {
     "name": "stdout",
     "output_type": "stream",
     "text": [
      "this is a bio graphy of a user\n",
      "User Name: mukarram razzaq\n",
      "User Age: 21\n",
      "User City: karachi\n",
      "User Country: pakistan\n"
     ]
    }
   ],
   "execution_count": 5
  },
  {
   "metadata": {
    "ExecuteTime": {
     "end_time": "2025-03-13T10:28:43.498725Z",
     "start_time": "2025-03-13T10:28:43.485406Z"
    }
   },
   "cell_type": "code",
   "source": [
    "import re\n",
    "# Sample text\n",
    "text = \"The rain in Spain falls mainly in the plain.\"\n",
    "\n",
    "# Define a pattern to find all words ending with 'ain'\n",
    "pattern = r\"\\b\\w*ain\\b\"\n",
    "\n",
    "# Find all matches\n",
    "matches = re.findall(pattern, text)\n",
    "\n",
    "print(\"Matches found:\", matches)"
   ],
   "id": "55e92b36a1c27c90",
   "outputs": [
    {
     "name": "stdout",
     "output_type": "stream",
     "text": [
      "Matches found: ['rain', 'Spain', 'plain']\n"
     ]
    }
   ],
   "execution_count": 3
  },
  {
   "metadata": {
    "ExecuteTime": {
     "end_time": "2025-03-13T10:39:28.268650Z",
     "start_time": "2025-03-13T10:38:46.985438Z"
    }
   },
   "cell_type": "code",
   "source": [
    "# defining a function\n",
    "def user_details():\n",
    "    user_name = input(\"Enter your name: \")\n",
    "    user_qualification = input(\"Enter your qualification: \")\n",
    "    user_experience = input(\"Enter your experience: \")\n",
    "    user_age = int(input(\"Enter your age: \"))\n",
    "    user_city = input(\"Enter your city: \")\n",
    "    user_country = input(\"Enter your country: \")\n",
    "\n",
    "    print(\"User Name:\", user_name)\n",
    "    print(\"User Age:\", user_age)\n",
    "    print(\"User City:\", user_city)\n",
    "    print(\"User Country:\", user_country)\n",
    "    print(\"User Qualification:\", user_qualification)\n",
    "    print(\"User Experience:\", user_experience)\n",
    "\n",
    "user_details()\n"
   ],
   "id": "ad696a483a4bb53a",
   "outputs": [
    {
     "name": "stdout",
     "output_type": "stream",
     "text": [
      "User Name: mukarram\n",
      "User Age: 21\n",
      "User City: karachi\n",
      "User Country: pakistan\n"
     ]
    }
   ],
   "execution_count": 4
  },
  {
   "metadata": {
    "ExecuteTime": {
     "end_time": "2025-03-13T11:14:02.435978Z",
     "start_time": "2025-03-13T11:13:56.065507Z"
    }
   },
   "cell_type": "code",
   "source": [
    "def greet_person(name = \"User\"):\n",
    "    \"\"\"\n",
    "    This function takes a name as input and prints a greeting message.\n",
    "    \"\"\"\n",
    "    print(f\"Hello, {name}! Welcome to the Python programming world.\")\n",
    "# Calling the function\n",
    "user_name = input(\"Enter your name: \")\n",
    "greet_person(user_name)"
   ],
   "id": "3f6c8df9477e14f7",
   "outputs": [
    {
     "name": "stdout",
     "output_type": "stream",
     "text": [
      "Hello, Mukarram! Welcome to the Python programming world.\n"
     ]
    }
   ],
   "execution_count": 6
  },
  {
   "metadata": {},
   "cell_type": "code",
   "outputs": [],
   "execution_count": null,
   "source": "",
   "id": "838063ff5e3599f6"
  }
 ],
 "metadata": {
  "kernelspec": {
   "display_name": "Python 3",
   "language": "python",
   "name": "python3"
  },
  "language_info": {
   "codemirror_mode": {
    "name": "ipython",
    "version": 2
   },
   "file_extension": ".py",
   "mimetype": "text/x-python",
   "name": "python",
   "nbconvert_exporter": "python",
   "pygments_lexer": "ipython2",
   "version": "2.7.6"
  }
 },
 "nbformat": 4,
 "nbformat_minor": 5
}
