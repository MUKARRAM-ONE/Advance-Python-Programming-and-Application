{
  "nbformat": 4,
  "nbformat_minor": 0,
  "metadata": {
    "colab": {
      "provenance": []
    },
    "kernelspec": {
      "name": "python3",
      "display_name": "Python 3"
    },
    "language_info": {
      "name": "python"
    }
  },
  "cells": [
    {
      "cell_type": "code",
      "source": [
        "print(\"Hello World!!\")"
      ],
      "metadata": {
        "colab": {
          "base_uri": "https://localhost:8080/"
        },
        "id": "324z-VtyyUUl",
        "outputId": "d4326dad-f48a-4fcc-afe4-fb768a897f5b"
      },
      "execution_count": null,
      "outputs": [
        {
          "output_type": "stream",
          "name": "stdout",
          "text": [
            "Hello World!!\n"
          ]
        }
      ]
    },
    {
      "cell_type": "code",
      "source": [
        "user_name = \"abc\""
      ],
      "metadata": {
        "id": "s29zaXtKzWGX"
      },
      "execution_count": null,
      "outputs": []
    },
    {
      "cell_type": "code",
      "source": [
        "print(user_name)"
      ],
      "metadata": {
        "colab": {
          "base_uri": "https://localhost:8080/"
        },
        "id": "-ei9_ejE0tLO",
        "outputId": "beabdceb-a91c-420a-9026-faf495ac1b07"
      },
      "execution_count": null,
      "outputs": [
        {
          "output_type": "stream",
          "name": "stdout",
          "text": [
            "xyz\n"
          ]
        }
      ]
    },
    {
      "cell_type": "code",
      "source": [
        "user_name = \"xyz\""
      ],
      "metadata": {
        "id": "ar1abkR52NEu"
      },
      "execution_count": null,
      "outputs": []
    },
    {
      "cell_type": "code",
      "source": [
        "print(user_name)"
      ],
      "metadata": {
        "colab": {
          "base_uri": "https://localhost:8080/"
        },
        "id": "Mnk6DUly2P2c",
        "outputId": "8cd959ed-a479-41af-84b6-494a5fd00a2b"
      },
      "execution_count": null,
      "outputs": [
        {
          "output_type": "stream",
          "name": "stdout",
          "text": [
            "abc\n"
          ]
        }
      ]
    },
    {
      "cell_type": "markdown",
      "source": [
        "1. Camel Case\n",
        "2. Snake Case\n",
        "3. Pascal Case\n",
        "4. Lower Case\n",
        "5. Double Underscore Case"
      ],
      "metadata": {
        "id": "0ZuRwlaA2oix"
      }
    },
    {
      "cell_type": "code",
      "source": [
        "__username = 'abc'"
      ],
      "metadata": {
        "id": "tTrSgZba23uz"
      },
      "execution_count": null,
      "outputs": []
    },
    {
      "cell_type": "code",
      "source": [
        "1username = 'abc'\n",
        "user1name = 'abc'"
      ],
      "metadata": {
        "id": "xDOn_lSf3BSm"
      },
      "execution_count": null,
      "outputs": []
    },
    {
      "cell_type": "code",
      "source": [
        "String\n",
        "Number\n",
        "Float\n",
        "Boolean\n",
        "None"
      ],
      "metadata": {
        "id": "c25DzMUD3KwV"
      },
      "execution_count": null,
      "outputs": []
    },
    {
      "cell_type": "code",
      "source": [
        "list = [\"value1\", \"value2\"]\n",
        "dic = {\"key\": \"value\"}\n",
        "tuple = (\"value1\", \"value2\")\n",
        "set = {\"value1\", \"value2\"}"
      ],
      "metadata": {
        "id": "D6iniw-t3r-y"
      },
      "execution_count": null,
      "outputs": []
    },
    {
      "cell_type": "code",
      "source": [
        "type(user_name)"
      ],
      "metadata": {
        "colab": {
          "base_uri": "https://localhost:8080/"
        },
        "id": "P6frdLUl4O8X",
        "outputId": "eb27ece6-12fb-4035-b61d-a70433e98139"
      },
      "execution_count": null,
      "outputs": [
        {
          "output_type": "execute_result",
          "data": {
            "text/plain": [
              "str"
            ]
          },
          "metadata": {},
          "execution_count": 14
        }
      ]
    },
    {
      "cell_type": "code",
      "source": [
        "kuch_bhi = \"abc\"\n",
        "kuch_bhi_2 = 'abc'\n",
        "kuch_bhi_3 = \"\"\"\n",
        "Lorem ipsum dolor sit amet,\n",
        "consectetur adipiscing elit.\n",
        "Sed do eiusmod tempor incididunt\n",
        "\"\"\"\n",
        "print(kuch_bhi_3)"
      ],
      "metadata": {
        "colab": {
          "base_uri": "https://localhost:8080/"
        },
        "id": "OT5YxInH4UbH",
        "outputId": "640327de-9789-4c40-c3fb-90489d0df427"
      },
      "execution_count": null,
      "outputs": [
        {
          "output_type": "stream",
          "name": "stdout",
          "text": [
            "\n",
            "Lorem ipsum dolor sit amet,\n",
            "consectetur adipiscing elit. \n",
            "Sed do eiusmod tempor incididunt \n",
            "\n"
          ]
        }
      ]
    },
    {
      "cell_type": "code",
      "source": [
        "print(user_name)"
      ],
      "metadata": {
        "colab": {
          "base_uri": "https://localhost:8080/"
        },
        "id": "vpMQDNy54y62",
        "outputId": "a672179d-f633-4e77-f227-6e3f77af88a9"
      },
      "execution_count": null,
      "outputs": [
        {
          "output_type": "stream",
          "name": "stdout",
          "text": [
            "xyz\n"
          ]
        }
      ]
    },
    {
      "cell_type": "code",
      "source": [
        "first_name = \"Fahad\"\n",
        "last_name = \"Khan\""
      ],
      "metadata": {
        "id": "V0RkoRC79pTF"
      },
      "execution_count": null,
      "outputs": []
    },
    {
      "cell_type": "code",
      "source": [
        "full_name = f'{first_name} {last_name}  '\n",
        "anotherMethod = first_name + \" \" + last_name\n",
        "# print(full_name)\n",
        "print(anotherMethod)"
      ],
      "metadata": {
        "colab": {
          "base_uri": "https://localhost:8080/"
        },
        "id": "AssSFzjp9xLq",
        "outputId": "47ea5411-ae61-491d-f296-da70dd13d5cb"
      },
      "execution_count": null,
      "outputs": [
        {
          "output_type": "stream",
          "name": "stdout",
          "text": [
            "Fahad Khan\n"
          ]
        }
      ]
    },
    {
      "cell_type": "code",
      "source": [
        "print(full_name.upper())"
      ],
      "metadata": {
        "colab": {
          "base_uri": "https://localhost:8080/"
        },
        "id": "r8pd2dye-FbV",
        "outputId": "5888eebe-a12c-436f-ff0c-c286ace46f4a"
      },
      "execution_count": null,
      "outputs": [
        {
          "output_type": "stream",
          "name": "stdout",
          "text": [
            "FAHAD KHAN\n"
          ]
        }
      ]
    },
    {
      "cell_type": "code",
      "source": [
        "print(full_name.lower())"
      ],
      "metadata": {
        "colab": {
          "base_uri": "https://localhost:8080/"
        },
        "id": "OfRbrO0A_vJ4",
        "outputId": "b2663363-1d0a-43c6-dbcc-f94bad85d7bc"
      },
      "execution_count": null,
      "outputs": [
        {
          "output_type": "stream",
          "name": "stdout",
          "text": [
            "fahad khan\n"
          ]
        }
      ]
    },
    {
      "cell_type": "code",
      "source": [
        "print(full_name.strip())"
      ],
      "metadata": {
        "colab": {
          "base_uri": "https://localhost:8080/"
        },
        "id": "MQJsRVbZ_8jG",
        "outputId": "3e2e8b11-67b0-4072-816b-a0a298458da4"
      },
      "execution_count": null,
      "outputs": [
        {
          "output_type": "stream",
          "name": "stdout",
          "text": [
            "Fahad Khan\n"
          ]
        }
      ]
    },
    {
      "cell_type": "code",
      "source": [
        "text = \"quick, brown fox jumps over the lazy fox\"\n",
        "print(text.replace(\"fox\", \"cat\", 1))"
      ],
      "metadata": {
        "colab": {
          "base_uri": "https://localhost:8080/"
        },
        "id": "MFn09PbpAMvy",
        "outputId": "0c5a7511-d401-4cb5-ef35-c1aab6ea30c7"
      },
      "execution_count": null,
      "outputs": [
        {
          "output_type": "stream",
          "name": "stdout",
          "text": [
            "quick, brown cat jumps over the lazy fox\n"
          ]
        }
      ]
    },
    {
      "cell_type": "code",
      "source": [
        "print(text.split())"
      ],
      "metadata": {
        "colab": {
          "base_uri": "https://localhost:8080/"
        },
        "id": "BmaOfIRGAm7H",
        "outputId": "48483270-ef52-4f8a-865d-931202e5e978"
      },
      "execution_count": null,
      "outputs": [
        {
          "output_type": "stream",
          "name": "stdout",
          "text": [
            "['quick,', 'brown', 'fox', 'jumps', 'over', 'the', 'lazy', 'fox']\n"
          ]
        }
      ]
    },
    {
      "cell_type": "code",
      "source": [
        "text = \"quick, brown fox jumps over the lazy fox\"\n",
        "print(text.find(\"fox\"))"
      ],
      "metadata": {
        "colab": {
          "base_uri": "https://localhost:8080/"
        },
        "id": "-aEfF8wJCQxZ",
        "outputId": "659c291f-6361-43c2-f387-2d3c368187f9"
      },
      "execution_count": null,
      "outputs": [
        {
          "output_type": "stream",
          "name": "stdout",
          "text": [
            "13\n"
          ]
        }
      ]
    },
    {
      "cell_type": "code",
      "source": [
        "string = \"abcdef\"\n",
        "print(len(string))"
      ],
      "metadata": {
        "colab": {
          "base_uri": "https://localhost:8080/"
        },
        "id": "dcfN-L1cC9bI",
        "outputId": "e97fe1a5-3eac-46e2-8e02-f8b1dbf9dd42"
      },
      "execution_count": null,
      "outputs": [
        {
          "output_type": "stream",
          "name": "stdout",
          "text": [
            "6\n"
          ]
        }
      ]
    },
    {
      "cell_type": "code",
      "source": [
        "text = \"quick, brown fox jumps over the lazy fox\"\n",
        "print(text.count(\"dog\"))"
      ],
      "metadata": {
        "colab": {
          "base_uri": "https://localhost:8080/"
        },
        "id": "l-7nNQaEEDH2",
        "outputId": "fc2feb27-f78f-4abe-f98f-1c46a8342923"
      },
      "execution_count": null,
      "outputs": [
        {
          "output_type": "stream",
          "name": "stdout",
          "text": [
            "0\n"
          ]
        }
      ]
    },
    {
      "cell_type": "code",
      "source": [
        "text = \"hello python world\"\n",
        "print(text.title())\n",
        "# Output: Hello Python World"
      ],
      "metadata": {
        "colab": {
          "base_uri": "https://localhost:8080/"
        },
        "id": "ZV7ShoiWENvR",
        "outputId": "af0fb9e2-470f-4fff-ba15-176c890118c9"
      },
      "execution_count": null,
      "outputs": [
        {
          "output_type": "stream",
          "name": "stdout",
          "text": [
            "Hello Python World\n"
          ]
        }
      ]
    },
    {
      "cell_type": "code",
      "source": [
        "text = \"Hello PYTHON\"\n",
        "print(text.swapcase())\n",
        "# Output: hELLO pYTHON\n"
      ],
      "metadata": {
        "colab": {
          "base_uri": "https://localhost:8080/"
        },
        "id": "y4a5197xEZlj",
        "outputId": "32e024af-345b-4c4b-98a5-af3f43816c47"
      },
      "execution_count": null,
      "outputs": [
        {
          "output_type": "stream",
          "name": "stdout",
          "text": [
            "hELLO python\n"
          ]
        }
      ]
    },
    {
      "cell_type": "code",
      "source": [
        "text = \"Hello1\"\n",
        "print(text.isalpha())\n",
        "# Output: True\n"
      ],
      "metadata": {
        "colab": {
          "base_uri": "https://localhost:8080/"
        },
        "id": "XkXyzlddEs2K",
        "outputId": "9257c4a9-9a72-4cd7-e644-f2aaa422ddce"
      },
      "execution_count": null,
      "outputs": [
        {
          "output_type": "stream",
          "name": "stdout",
          "text": [
            "False\n"
          ]
        }
      ]
    },
    {
      "cell_type": "code",
      "source": [
        "text = \"12345\"\n",
        "print(text.isdigit())\n",
        "# Output: True\n"
      ],
      "metadata": {
        "colab": {
          "base_uri": "https://localhost:8080/"
        },
        "id": "-UZqNPa8E7dB",
        "outputId": "34af61d5-f0f0-4c10-83ac-67cff3126f00"
      },
      "execution_count": null,
      "outputs": [
        {
          "output_type": "stream",
          "name": "stdout",
          "text": [
            "True\n"
          ]
        }
      ]
    },
    {
      "cell_type": "code",
      "source": [
        "# text = \"Hello123\"\n",
        "text = \"/\"\n",
        "print(text.isalnum())\n",
        "# Output: True"
      ],
      "metadata": {
        "colab": {
          "base_uri": "https://localhost:8080/"
        },
        "id": "I63bzMSBFESK",
        "outputId": "4f429f51-bdff-4344-bd9b-e4c0904dc75a"
      },
      "execution_count": null,
      "outputs": [
        {
          "output_type": "stream",
          "name": "stdout",
          "text": [
            "False\n"
          ]
        }
      ]
    },
    {
      "cell_type": "code",
      "source": [
        "name = \"Hamza Ahmed Alvi\"\n",
        "print(name[0:5])\n",
        "print(name[:5])\n",
        "print(name[2:])"
      ],
      "metadata": {
        "colab": {
          "base_uri": "https://localhost:8080/"
        },
        "id": "lJ4GU62mFN75",
        "outputId": "276ef862-7865-49f0-9432-346fa2bfb695"
      },
      "execution_count": null,
      "outputs": [
        {
          "output_type": "stream",
          "name": "stdout",
          "text": [
            "Hamza\n",
            "Hamza\n",
            "mza Ahmed Alvi\n"
          ]
        }
      ]
    },
    {
      "cell_type": "code",
      "source": [
        "name = input(\"Enter your name\")\n",
        "print(name)"
      ],
      "metadata": {
        "colab": {
          "base_uri": "https://localhost:8080/"
        },
        "id": "TB8-fXGZGL-o",
        "outputId": "368ead3a-1318-45eb-f04f-ca7c90b04e9f"
      },
      "execution_count": null,
      "outputs": [
        {
          "output_type": "stream",
          "name": "stdout",
          "text": [
            "Enter your nameFahad Khan\n",
            "Fahad Khan\n"
          ]
        }
      ]
    },
    {
      "cell_type": "code",
      "source": [
        "name = None"
      ],
      "metadata": {
        "id": "jI-UlSiMHAa0"
      },
      "execution_count": null,
      "outputs": []
    },
    {
      "cell_type": "code",
      "source": [
        "name = input(\"Enter your name\")\n",
        "age = float(input(\"Enter your age\"))\n",
        "profession = input(\"Enter your profession\")\n",
        "\n",
        "f\"\"\"\n",
        "My name is {name}\n",
        "my age is {age}\n",
        "I am a {profession}\n",
        "\"\"\""
      ],
      "metadata": {
        "colab": {
          "base_uri": "https://localhost:8080/",
          "height": 87
        },
        "id": "043P8eLGIA3_",
        "outputId": "ebfc9128-e627-4884-9a60-220dd19acb53"
      },
      "execution_count": null,
      "outputs": [
        {
          "name": "stdout",
          "output_type": "stream",
          "text": [
            "Enter your namemukarram\n",
            "Enter your age21\n",
            "Enter your professionsoftware engineer\n"
          ]
        },
        {
          "output_type": "execute_result",
          "data": {
            "text/plain": [
              "'\\nMy name is mukarram\\nmy age is 21.0\\nI am a software engineer\\n'"
            ],
            "application/vnd.google.colaboratory.intrinsic+json": {
              "type": "string"
            }
          },
          "metadata": {},
          "execution_count": 2
        }
      ]
    },
    {
      "cell_type": "code",
      "source": [],
      "metadata": {
        "id": "-kuz7L86KYfX"
      },
      "execution_count": null,
      "outputs": []
    }
  ]
}